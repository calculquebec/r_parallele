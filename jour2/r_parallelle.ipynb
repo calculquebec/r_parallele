{
 "cells": [
  {
   "cell_type": "markdown",
   "metadata": {},
   "source": [
    "# Faire du calcul parallèle avec R\n",
    "Reprenons notre code qui utilise les données de différents sites sur plusieurs jours\n",
    "Supposons que nous voulons tester plusieurs choses à la fois et en faire des graphiques. Il faudrait par exemple créer des boucles qui permettraient de produire automatiquement les graphiques pour chaque modèle."
   ]
  },
  {
   "cell_type": "code",
   "execution_count": null,
   "metadata": {},
   "outputs": [],
   "source": [
    "specimens <- list(seq(1,50,1))\n",
    "jours <- 10\n",
    "nb.times <- length(specimens)*jours\n",
    "\n",
    "# premiere table\n",
    "table.specimen <- data.frame(ID=integer(), jour=integer(), hauteur = numeric(), masse = numeric(), BMI=numeric())\n",
    "\n",
    "for(i in specimens){ # une table par specimen\n",
    "  table.temp <- data.frame(ID=integer(), jour=integer(), hauteur = numeric(), masse = numeric(), BMI=numeric())\n",
    "  for(j in 1:jours){ # 10 jours de mesures\n",
    "    haut <- runif(n = 1, min = 5.4, max = 6.2)\n",
    "    mass <- sample(98:160, 1)\n",
    "    BMI <- haut/mass\n",
    "    temp2 <- data.frame(ID=i, jour=j, hauteur = haut, masse = mass, BMI=BMI)\n",
    "    table.temp <- rbind(table.temp, temp2)\n",
    "  }\n",
    "  table.specimen <- rbind(table.specimen, table.temp)\n",
    "}\n",
    "\n",
    "# deuxieme table\n",
    "table.alloc1 <- as.data.frame(matrix(ncol=5, nrow=length(specimens)*jours)) # nombre de lignes = nb specimens *nb jours\n",
    "names(table.alloc1) <- c(\"ID\", \"jour\", \"hauteur\", \"masse\", \"BMI\")\n",
    "ligne <- 1\n",
    "for(i in specimens){ # une table par specimen\n",
    "  for(j in 1:jours){ # 10 jours de mesures\n",
    "    haut <- runif(n = 1, min = 5.4, max = 6.2)\n",
    "    mass <- sample(98:160, 1)\n",
    "    BMI <- haut/mass\n",
    "    table.alloc1[ligne,] <- c(i,j,haut,mass,BMI)\n",
    "\n",
    "    ligne <- ligne+1\n",
    "  }\n",
    "}\n",
    "\n",
    "# 3e table\n",
    "table.alloc2 <- data.frame(ID=rep(specimens, jours), \n",
    "                           jour=rep(1:jours, length(specimens)), \n",
    "                           hauteur = replicate(1,runif(min= 5.4, max= 6.2,n=nb.times)), \n",
    "                           masse = replicate(1,sample(98:160, nb.times, replace = TRUE)), \n",
    "                           BMI=numeric(length = nb.times))\n",
    "table.alloc2$BMI <- table.alloc2$hauteur/table.alloc2$masse"
   ]
  },
  {
   "cell_type": "markdown",
   "metadata": {},
   "source": [
    "Nous pourrions vouloir imprimer des graphiques ou sortir des coefficients d'un modèle (ex: régression linéaire) en utilisant une boucle."
   ]
  },
  {
   "cell_type": "code",
   "execution_count": null,
   "metadata": {},
   "outputs": [],
   "source": [
    "for(indiv in specimens){\n",
    "  df.subset <- subset(table.alloc2, ID == indiv, select = c(names(table.alloc2)))\n",
    "  plot(df.subset)\n",
    "}"
   ]
  },
  {
   "cell_type": "code",
   "execution_count": null,
   "metadata": {},
   "outputs": [],
   "source": [
    "for(j in 1:jours){\n",
    "  df.subset <- subset(table.alloc2, jour == j, select = c(names(table.alloc2)))\n",
    "  lm.model <- as.numeric(lm(BMI~hauteur, data = df.subset)$coefficients[2])\n",
    "  print(lm.model)\n",
    "}"
   ]
  },
  {
   "cell_type": "markdown",
   "metadata": {},
   "source": [
    "Mais si nous avons une centaine de spécimens que nous voulons analyser séparément, ça pourrait rapidement devenir très long. Dans l'exemple ici il s'agit d'un modèle linéaire, mais si on pensait faire un modèle segmenté avec plusieurs points de convergence, nous pourrions nous retrouver avec quelques secondes/quelques minutes par itération. Si chaque itération prend 1 minute et que nous devons faire 100 itérations, il devient clair que la boucle en série n'est pas le meilleur choix. Nous pouvons à ce moment utiliser doParallel, qui nous permettra de passer une série d'itérations en simultané."
   ]
  },
  {
   "cell_type": "code",
   "execution_count": null,
   "metadata": {},
   "outputs": [],
   "source": [
    "library(doParallel)"
   ]
  },
  {
   "cell_type": "markdown",
   "metadata": {},
   "source": [
    "Une étape importante est de transformer le contenu de notre boucle série en fonction, qui pourra être réutilisée dans la boucle foreach."
   ]
  },
  {
   "cell_type": "code",
   "execution_count": null,
   "metadata": {},
   "outputs": [],
   "source": [
    "print.coeff <- function(indiv){\n",
    "  df.subset <- subset(table.alloc2, ID == indiv, select = c(names(table.alloc2)))\n",
    "  lm.model <- as.numeric(lm(BMI~hauteur, data = df.subset)$coefficients[2])\n",
    "  print(lm.model)\n",
    "}\n"
   ]
  },
  {
   "cell_type": "markdown",
   "metadata": {},
   "source": [
    "Nous pouvons ensuite utiliser cette fonction dans une boucle foreach, qui a une syntaxe un peu différente de ce à quoi certaines personnes sont habituées. Chose à noter: toute la boucle doit se trouver sur une même ligne pour être lue de manière adéquate."
   ]
  },
  {
   "cell_type": "code",
   "execution_count": null,
   "metadata": {},
   "outputs": [],
   "source": [
    "foreach(indiv=specimens, .combine=rbind) %dopar% {print.coeff(indiv=indiv)}"
   ]
  },
  {
   "cell_type": "markdown",
   "metadata": {},
   "source": [
    "Ici, nous utilisons la fonction print.coeff dans la partie exécutée de la boucle foreach. Vous noterez l'avertissement que retourne R. Il indique que foreach peut fonctionner en série si aucun nombre de coeurs à utiliser n'a été déterminé. À faire attention lorsqu'on produit le code!"
   ]
  },
  {
   "cell_type": "code",
   "execution_count": null,
   "metadata": {},
   "outputs": [],
   "source": [
    "ncores = 2\n",
    "registerDoParallel(cores=ncores)# Shows the number of Parallel Workers to be used"
   ]
  },
  {
   "cell_type": "code",
   "execution_count": null,
   "metadata": {},
   "outputs": [],
   "source": [
    "# ici, nous avons la manière de specifier le nombre de coeurs a utiliser lorsque la valeur est dependante du fichier\n",
    "# de soumission\n",
    "#ncores = Sys.getenv(\"SLURM_CPUS_PER_TASK\") \n",
    "\n",
    "#registerDoParallel(cores=ncores)# Shows the number of Parallel Workers to be used"
   ]
  },
  {
   "cell_type": "code",
   "execution_count": null,
   "metadata": {},
   "outputs": [],
   "source": [
    "foreach(indiv=specimens, .combine=rbind) %dopar% {print.coeff(indiv=indiv)}"
   ]
  },
  {
   "cell_type": "markdown",
   "metadata": {},
   "source": [
    "Et voilà! Du code parallèle sur deux coeurs! Ça pourrait fonctionner sur votre ordinateur personnel, tout comme sur un supercalculateur!"
   ]
  },
  {
   "cell_type": "code",
   "execution_count": null,
   "metadata": {},
   "outputs": [],
   "source": []
  }
 ],
 "metadata": {
  "kernelspec": {
   "display_name": "R",
   "language": "R",
   "name": "ir"
  },
  "language_info": {
   "codemirror_mode": "r",
   "file_extension": ".r",
   "mimetype": "text/x-r-source",
   "name": "R",
   "pygments_lexer": "r",
   "version": "3.6.1"
  }
 },
 "nbformat": 4,
 "nbformat_minor": 4
}
