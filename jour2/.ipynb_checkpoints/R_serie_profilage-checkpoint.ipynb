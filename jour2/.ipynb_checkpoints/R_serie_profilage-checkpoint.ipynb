{
 "cells": [
  {
   "cell_type": "markdown",
   "metadata": {},
   "source": [
    "# Passer d'un code série à un code parallèle\n",
    "## Première étape: Comprendre ce qui rend les choses plus rapides et ce qui ne le fait pas\n",
    "Dans certains cas, il est possible d'accélérer le code série en faisant certaines petites modifications. Par exemple, R n'est pas particulièrement efficace à gérer ce qu'il se passe en mémoire. Le concept de \"pré-allocation\" de la mémoire est crucial dans R. Prenons par exemple la construction d'une table par itérations. Si nous voulons remplir un tableau de valeurs associées à différents spécimens par exemple, une étape logique serait de faire une boucle qui créerait une table par spécimen, pour ajouter les lignes créées à la suite dans le tableau. Ex:\n",
    "\n"
   ]
  },
  {
   "cell_type": "code",
   "execution_count": null,
   "metadata": {},
   "outputs": [],
   "source": []
  },
  {
   "cell_type": "code",
   "execution_count": null,
   "metadata": {},
   "outputs": [],
   "source": [
    "specimens <- list(seq(1,50,1))\n",
    "jours <- 10"
   ]
  },
  {
   "cell_type": "code",
   "execution_count": null,
   "metadata": {},
   "outputs": [],
   "source": [
    "table.specimen <- data.frame(ID=integer(), jour=integer(), hauteur = numeric(), masse = numeric(), BMI=numeric())\n",
    "\n",
    "for(i in specimens){ # une table par specimen\n",
    "  table.temp <- data.frame(ID=integer(), jour=integer(), hauteur = numeric(), masse = numeric(), BMI=numeric())\n",
    "  for(j in 1:jours){ # 10 jours de mesures\n",
    "    haut <- runif(n = 1, min = 5.4, max = 6.2)\n",
    "    mass <- sample(98:160, 1)\n",
    "    BMI <- haut/mass\n",
    "    temp2 <- data.frame(ID=i, jour=j, hauteur = haut, masse = mass, BMI=BMI)\n",
    "    table.temp <- rbind(table.temp, temp2)\n",
    "  }\n",
    "  table.specimen <- rbind(table.specimen, table.temp)\n",
    "}"
   ]
  },
  {
   "cell_type": "code",
   "execution_count": null,
   "metadata": {},
   "outputs": [],
   "source": [
    "table.alloc1 <- as.data.frame(matrix(ncol=5, nrow=length(specimens)*jours)) # nombre de lignes = nb specimens *nb jours\n",
    "names(table.alloc1) <- c(\"ID\", \"jour\", \"hauteur\", \"masse\", \"BMI\")\n",
    "ligne <- 1\n",
    "for(i in specimens){ # une table par specimen\n",
    "  for(j in 1:jours){ # 10 jours de mesures\n",
    "    haut <- runif(n = 1, min = 5.4, max = 6.2)\n",
    "    mass <- sample(98:160, 1)\n",
    "    BMI <- haut/mass\n",
    "    table.alloc1[ligne,] <- c(i,j,haut,mass,BMI)\n",
    "\n",
    "    ligne <- ligne+1\n",
    "  }\n",
    "}"
   ]
  },
  {
   "cell_type": "code",
   "execution_count": null,
   "metadata": {},
   "outputs": [],
   "source": [
    "nb.times <- length(specimens)*jours\n",
    "table.alloc2 <- data.frame(ID=rep(specimens, jours), \n",
    "                           jour=rep(1:jours, length(specimens)), \n",
    "                           hauteur = replicate(1,runif(min= 5.4, max= 6.2,n=nb.times)), \n",
    "                           masse = replicate(1,sample(98:160, nb.times, replace = TRUE)), \n",
    "                           BMI=numeric(length = nb.times))\n",
    "table.alloc2$BMI <- table.alloc2$hauteur/table.alloc2$masse"
   ]
  },
  {
   "cell_type": "code",
   "execution_count": null,
   "metadata": {},
   "outputs": [],
   "source": []
  },
  {
   "cell_type": "markdown",
   "metadata": {},
   "source": [
    "## Deuxième étape, faire le profilage\n",
    "Les 3 options peuvent sembler équivalentes, mais le profilage permet de trouver les zones où elles diffèrent. En effet, un profileur permet d'inspecter un code R pour déterminer à quoi le temps et les ressources servent.\n",
    "\n",
    "Pour commencer, nous allons utiliser un profileur nommé profvis."
   ]
  },
  {
   "cell_type": "code",
   "execution_count": null,
   "metadata": {},
   "outputs": [],
   "source": [
    "library(profvis)"
   ]
  },
  {
   "cell_type": "markdown",
   "metadata": {},
   "source": [
    "L'interface du profileur contient le code en haut et les graphiques en bas. L'axe horizontal représente le temps en millisecondes et l'axe vertical représente chaque étape du code. Pour 10 jours, vous ne verrez potentiellement même pas de graphique pour l'option 3, puisqu'elle est très rapide.\n",
    "\n",
    "On peut aussi voir la mémoire qui est utilisée pour chaque partie du code. Prenez du temps pour inspecter chacun des graphiques et les comparer. Ajustez le nombre de jours à la hausse.\n",
    "\n",
    "Selon le code, il serait possible que des parties n'apparaîssent pas dans le profileur, par exemple s'il n'y a pas accès."
   ]
  },
  {
   "cell_type": "code",
   "execution_count": null,
   "metadata": {},
   "outputs": [],
   "source": [
    "profvis({\n",
    "table.specimen <- data.frame(ID=integer(), jour=integer(), hauteur = numeric(), masse = numeric(), BMI=numeric())\n",
    "\n",
    "for(i in specimens){ # une table par specimen\n",
    "  table.temp <- data.frame(ID=integer(), jour=integer(), hauteur = numeric(), masse = numeric(), BMI=numeric())\n",
    "  for(j in 1:jours){ # 10 jours de mesures\n",
    "    haut <- runif(n = 1, min = 5.4, max = 6.2)\n",
    "    mass <- sample(98:160, 1)\n",
    "    BMI <- haut/mass\n",
    "    temp2 <- data.frame(ID=i, jour=j, hauteur = haut, masse = mass, BMI=BMI)\n",
    "    table.temp <- rbind(table.temp, temp2)\n",
    "  }\n",
    "  table.specimen <- rbind(table.specimen, table.temp)\n",
    "}\n",
    "})"
   ]
  },
  {
   "cell_type": "code",
   "execution_count": null,
   "metadata": {},
   "outputs": [],
   "source": [
    "profvis({\n",
    "    table.alloc1 <- as.data.frame(matrix(ncol=5, nrow=length(specimens)*jours)) # nombre de lignes = nb specimens *nb jours\n",
    "names(table.alloc1) <- c(\"ID\", \"jour\", \"hauteur\", \"masse\", \"BMI\")\n",
    "ligne <- 1\n",
    "for(i in specimens){ # une table par specimen\n",
    "  for(j in 1:jours){ # 10 jours de mesures\n",
    "    haut <- runif(n = 1, min = 5.4, max = 6.2)\n",
    "    mass <- sample(98:160, 1)\n",
    "    BMI <- haut/mass\n",
    "    table.alloc1[ligne,] <- c(i,j,haut,mass,BMI)\n",
    "\n",
    "    ligne <- ligne+1\n",
    "  }\n",
    "}\n",
    "    })"
   ]
  },
  {
   "cell_type": "code",
   "execution_count": null,
   "metadata": {},
   "outputs": [],
   "source": [
    "profvis({\n",
    "    nb.times <- length(specimens)*jours\n",
    "table.alloc2 <- data.frame(ID=rep(specimens, jours), \n",
    "                           jour=rep(1:jours, length(specimens)), \n",
    "                           hauteur = replicate(1,runif(min= 5.4, max= 6.2,n=nb.times)), \n",
    "                           masse = replicate(1,sample(98:160, nb.times, replace = TRUE)), \n",
    "                           BMI=numeric(length = nb.times))\n",
    "table.alloc2$BMI <- table.alloc2$hauteur/table.alloc2$masse\n",
    "})"
   ]
  },
  {
   "cell_type": "markdown",
   "metadata": {},
   "source": [
    "# Que pourrions nous faire pour améliorer le code?\n",
    "- passer de data.frame à matrix\n",
    "- passer de data.frame à une liste de vecteurs\n",
    "- certaines fonctions peuvent être accélérées par des apply\n",
    "\n",
    "# Lorsqu'il est devenu impossible d'accélérer le code\n",
    "Pour des tâches rapides, les moyens conventionnels de réécriture du code permettent d'aller chercher de meilleures performances. Cependant, lorsque tout a été essayé et qu'on ne peut contourner le fait que nous avons affaire à des centaines de modèles ou des millions d'individus, l'utilisation de listes ou de matrices ne sera qu'une goutte d'eau dans l'océan de notre code. C'est à ce moment que le calcul parallèle entre en jeu!"
   ]
  },
  {
   "cell_type": "code",
   "execution_count": null,
   "metadata": {},
   "outputs": [],
   "source": []
  }
 ],
 "metadata": {
  "kernelspec": {
   "display_name": "R",
   "language": "R",
   "name": "ir"
  },
  "language_info": {
   "codemirror_mode": "r",
   "file_extension": ".r",
   "mimetype": "text/x-r-source",
   "name": "R",
   "pygments_lexer": "r",
   "version": "3.6.1"
  }
 },
 "nbformat": 4,
 "nbformat_minor": 4
}
